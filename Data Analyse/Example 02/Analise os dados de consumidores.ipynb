{
 "cells": [
  {
   "cell_type": "markdown",
   "metadata": {},
   "source": [
    "# <font color = 'blue' > Aprendendo analisar os dados de consumidores"
   ]
  },
  {
   "cell_type": "code",
   "execution_count": 1,
   "metadata": {},
   "outputs": [],
   "source": [
    "# importando pacotes\n",
    "\n",
    "import pandas as pd\n",
    "import matplotlib.pyplot as plt\n",
    "import seaborn as sbs\n",
    "import datetime as dt\n",
    "import numpy as np\n",
    "\n",
    "# lendo arquivo\n",
    "\n",
    "df = pd.read_excel(\"C:\\PythonFundamentos\\Cap07\\dados.xlsx\")"
   ]
  },
  {
   "cell_type": "code",
   "execution_count": 2,
   "metadata": {},
   "outputs": [
    {
     "data": {
      "text/html": [
       "<div>\n",
       "<style scoped>\n",
       "    .dataframe tbody tr th:only-of-type {\n",
       "        vertical-align: middle;\n",
       "    }\n",
       "\n",
       "    .dataframe tbody tr th {\n",
       "        vertical-align: top;\n",
       "    }\n",
       "\n",
       "    .dataframe thead th {\n",
       "        text-align: right;\n",
       "    }\n",
       "</style>\n",
       "<table border=\"1\" class=\"dataframe\">\n",
       "  <thead>\n",
       "    <tr style=\"text-align: right;\">\n",
       "      <th></th>\n",
       "      <th>InvoiceNo</th>\n",
       "      <th>StockCode</th>\n",
       "      <th>Description</th>\n",
       "      <th>Quantity</th>\n",
       "      <th>InvoiceDate</th>\n",
       "      <th>UnitPrice</th>\n",
       "      <th>CustomerID</th>\n",
       "      <th>Country</th>\n",
       "    </tr>\n",
       "  </thead>\n",
       "  <tbody>\n",
       "    <tr>\n",
       "      <th>0</th>\n",
       "      <td>536365</td>\n",
       "      <td>85123A</td>\n",
       "      <td>WHITE HANGING HEART T-LIGHT HOLDER</td>\n",
       "      <td>6</td>\n",
       "      <td>2010-12-01 08:26:00</td>\n",
       "      <td>2.55</td>\n",
       "      <td>17850.0</td>\n",
       "      <td>United Kingdom</td>\n",
       "    </tr>\n",
       "    <tr>\n",
       "      <th>1</th>\n",
       "      <td>536365</td>\n",
       "      <td>71053</td>\n",
       "      <td>WHITE METAL LANTERN</td>\n",
       "      <td>6</td>\n",
       "      <td>2010-12-01 08:26:00</td>\n",
       "      <td>3.39</td>\n",
       "      <td>17850.0</td>\n",
       "      <td>United Kingdom</td>\n",
       "    </tr>\n",
       "    <tr>\n",
       "      <th>2</th>\n",
       "      <td>536365</td>\n",
       "      <td>84406B</td>\n",
       "      <td>CREAM CUPID HEARTS COAT HANGER</td>\n",
       "      <td>8</td>\n",
       "      <td>2010-12-01 08:26:00</td>\n",
       "      <td>2.75</td>\n",
       "      <td>17850.0</td>\n",
       "      <td>United Kingdom</td>\n",
       "    </tr>\n",
       "    <tr>\n",
       "      <th>3</th>\n",
       "      <td>536365</td>\n",
       "      <td>84029G</td>\n",
       "      <td>KNITTED UNION FLAG HOT WATER BOTTLE</td>\n",
       "      <td>6</td>\n",
       "      <td>2010-12-01 08:26:00</td>\n",
       "      <td>3.39</td>\n",
       "      <td>17850.0</td>\n",
       "      <td>United Kingdom</td>\n",
       "    </tr>\n",
       "    <tr>\n",
       "      <th>4</th>\n",
       "      <td>536365</td>\n",
       "      <td>84029E</td>\n",
       "      <td>RED WOOLLY HOTTIE WHITE HEART.</td>\n",
       "      <td>6</td>\n",
       "      <td>2010-12-01 08:26:00</td>\n",
       "      <td>3.39</td>\n",
       "      <td>17850.0</td>\n",
       "      <td>United Kingdom</td>\n",
       "    </tr>\n",
       "  </tbody>\n",
       "</table>\n",
       "</div>"
      ],
      "text/plain": [
       "  InvoiceNo StockCode                          Description  Quantity  \\\n",
       "0    536365    85123A   WHITE HANGING HEART T-LIGHT HOLDER         6   \n",
       "1    536365     71053                  WHITE METAL LANTERN         6   \n",
       "2    536365    84406B       CREAM CUPID HEARTS COAT HANGER         8   \n",
       "3    536365    84029G  KNITTED UNION FLAG HOT WATER BOTTLE         6   \n",
       "4    536365    84029E       RED WOOLLY HOTTIE WHITE HEART.         6   \n",
       "\n",
       "          InvoiceDate  UnitPrice  CustomerID         Country  \n",
       "0 2010-12-01 08:26:00       2.55     17850.0  United Kingdom  \n",
       "1 2010-12-01 08:26:00       3.39     17850.0  United Kingdom  \n",
       "2 2010-12-01 08:26:00       2.75     17850.0  United Kingdom  \n",
       "3 2010-12-01 08:26:00       3.39     17850.0  United Kingdom  \n",
       "4 2010-12-01 08:26:00       3.39     17850.0  United Kingdom  "
      ]
     },
     "execution_count": 2,
     "metadata": {},
     "output_type": "execute_result"
    }
   ],
   "source": [
    "#conhecendo a tabela\n",
    "\n",
    "df.head()"
   ]
  },
  {
   "cell_type": "code",
   "execution_count": 3,
   "metadata": {},
   "outputs": [
    {
     "data": {
      "text/plain": [
       "Index(['InvoiceNo', 'StockCode', 'Description', 'Quantity', 'InvoiceDate',\n",
       "       'UnitPrice', 'CustomerID', 'Country'],\n",
       "      dtype='object')"
      ]
     },
     "execution_count": 3,
     "metadata": {},
     "output_type": "execute_result"
    }
   ],
   "source": [
    "#conhecendo as colunas\n",
    "\n",
    "df.columns"
   ]
  },
  {
   "cell_type": "code",
   "execution_count": 4,
   "metadata": {},
   "outputs": [
    {
     "data": {
      "text/html": [
       "<div>\n",
       "<style scoped>\n",
       "    .dataframe tbody tr th:only-of-type {\n",
       "        vertical-align: middle;\n",
       "    }\n",
       "\n",
       "    .dataframe tbody tr th {\n",
       "        vertical-align: top;\n",
       "    }\n",
       "\n",
       "    .dataframe thead th {\n",
       "        text-align: right;\n",
       "    }\n",
       "</style>\n",
       "<table border=\"1\" class=\"dataframe\">\n",
       "  <thead>\n",
       "    <tr style=\"text-align: right;\">\n",
       "      <th></th>\n",
       "      <th>Quantity</th>\n",
       "      <th>UnitPrice</th>\n",
       "      <th>CustomerID</th>\n",
       "    </tr>\n",
       "  </thead>\n",
       "  <tbody>\n",
       "    <tr>\n",
       "      <th>count</th>\n",
       "      <td>541909.000000</td>\n",
       "      <td>541909.000000</td>\n",
       "      <td>406829.000000</td>\n",
       "    </tr>\n",
       "    <tr>\n",
       "      <th>mean</th>\n",
       "      <td>9.552250</td>\n",
       "      <td>4.611114</td>\n",
       "      <td>15287.690570</td>\n",
       "    </tr>\n",
       "    <tr>\n",
       "      <th>std</th>\n",
       "      <td>218.081158</td>\n",
       "      <td>96.759853</td>\n",
       "      <td>1713.600303</td>\n",
       "    </tr>\n",
       "    <tr>\n",
       "      <th>min</th>\n",
       "      <td>-80995.000000</td>\n",
       "      <td>-11062.060000</td>\n",
       "      <td>12346.000000</td>\n",
       "    </tr>\n",
       "    <tr>\n",
       "      <th>25%</th>\n",
       "      <td>1.000000</td>\n",
       "      <td>1.250000</td>\n",
       "      <td>13953.000000</td>\n",
       "    </tr>\n",
       "    <tr>\n",
       "      <th>50%</th>\n",
       "      <td>3.000000</td>\n",
       "      <td>2.080000</td>\n",
       "      <td>15152.000000</td>\n",
       "    </tr>\n",
       "    <tr>\n",
       "      <th>75%</th>\n",
       "      <td>10.000000</td>\n",
       "      <td>4.130000</td>\n",
       "      <td>16791.000000</td>\n",
       "    </tr>\n",
       "    <tr>\n",
       "      <th>max</th>\n",
       "      <td>80995.000000</td>\n",
       "      <td>38970.000000</td>\n",
       "      <td>18287.000000</td>\n",
       "    </tr>\n",
       "  </tbody>\n",
       "</table>\n",
       "</div>"
      ],
      "text/plain": [
       "            Quantity      UnitPrice     CustomerID\n",
       "count  541909.000000  541909.000000  406829.000000\n",
       "mean        9.552250       4.611114   15287.690570\n",
       "std       218.081158      96.759853    1713.600303\n",
       "min    -80995.000000  -11062.060000   12346.000000\n",
       "25%         1.000000       1.250000   13953.000000\n",
       "50%         3.000000       2.080000   15152.000000\n",
       "75%        10.000000       4.130000   16791.000000\n",
       "max     80995.000000   38970.000000   18287.000000"
      ]
     },
     "execution_count": 4,
     "metadata": {},
     "output_type": "execute_result"
    }
   ],
   "source": [
    "# verificando métricas da tabela\n",
    "\n",
    "df.describe()"
   ]
  },
  {
   "cell_type": "code",
   "execution_count": 5,
   "metadata": {},
   "outputs": [
    {
     "name": "stdout",
     "output_type": "stream",
     "text": [
      "InvoiceNo      False\n",
      "StockCode      False\n",
      "Description     True\n",
      "Quantity       False\n",
      "InvoiceDate    False\n",
      "UnitPrice      False\n",
      "CustomerID      True\n",
      "Country        False\n",
      "dtype: bool\n"
     ]
    }
   ],
   "source": [
    "# verificando a existência de dados em brancos ou nulos\n",
    "\n",
    "print( df.isnull().any() )"
   ]
  },
  {
   "cell_type": "code",
   "execution_count": 6,
   "metadata": {},
   "outputs": [
    {
     "name": "stdout",
     "output_type": "stream",
     "text": [
      "InvoiceNo           0\n",
      "StockCode           0\n",
      "Description      1454\n",
      "Quantity            0\n",
      "InvoiceDate         0\n",
      "UnitPrice           0\n",
      "CustomerID     135080\n",
      "Country             0\n",
      "dtype: int64\n"
     ]
    }
   ],
   "source": [
    "# verificando quantos registros em branco existe em cada dimensão\n",
    "\n",
    "print( df.isnull().sum() )"
   ]
  },
  {
   "cell_type": "code",
   "execution_count": 7,
   "metadata": {},
   "outputs": [
    {
     "name": "stdout",
     "output_type": "stream",
     "text": [
      "136534\n",
      "(541909, 8)\n",
      "4335272\n",
      "Percentual de dados faltantes: 3.15 %\n"
     ]
    }
   ],
   "source": [
    "# Somando os dados em falta\n",
    "\n",
    "#soma total dos dados que estão nulos na minha tabela\n",
    "\n",
    "dados_faltantes = df.isnull().sum() \n",
    "\n",
    "print(dados_faltantes.sum())\n",
    "\n",
    "#Retorna o dimensionamento da tabela (linhas, colunas)-->podemos saber quantos elementos cabem na nossa \n",
    "#tabela, por exemplo: tabela (2,1), cabem 2 elementos (2 * 1 = 2), uma (3,3) cabem 9 elementos (3 * 3 = 9);\n",
    "\n",
    "print(df.shape) \n",
    "\n",
    "# Realiza o produto da dimensão da tabela, por exemplo --> tabela (2,2) --> 2*2 = 4;\n",
    "\n",
    "print(np.product(df.shape)) \n",
    "\n",
    "# Percntual de dados faltantes na tabela = pega o número/soma de elementos nulos/quantidade máxima da tabela (quantos cabem na tabela)\n",
    "\n",
    "percentual_de_dados_faltantes = (dados_faltantes.sum()/np.product(df.shape)) * 100\n",
    "\n",
    "print('Percentual de dados faltantes:', round(percentual_de_dados_faltantes, 2), '%')"
   ]
  },
  {
   "cell_type": "code",
   "execution_count": 8,
   "metadata": {},
   "outputs": [
    {
     "name": "stdout",
     "output_type": "stream",
     "text": [
      "Dados com compradores identificados:  406829\n",
      "Dados com compradores NÂO identificados:  135080\n"
     ]
    }
   ],
   "source": [
    "#soma dos dados idenficados do comprador;\n",
    "\n",
    "#Traz a soma dos elementos;\n",
    "df_identificado = df['CustomerID'].notnull().sum()\n",
    "\n",
    "# Retorna a tabela contendo algum valor na coluna\n",
    "#CustomerID. Caso acrescente ao fim shape[0], retornará a dimensão\n",
    "# total da tabela;\n",
    "\n",
    "#df_identificado2 = pd.notnull(df['CustomerID'])\n",
    "\n",
    "# Retorna o filtro na tabela para da coluna que contenham algum\n",
    "# valor na sua linha. Com o shape[0] retorna o tamanho dessa \n",
    "# tabela filtrada;\n",
    "\n",
    "#df_identificado3 = df[pd.notnull(df['CustomerID'])].shape[0]\n",
    "\n",
    "\n",
    "#Soma dos dados NAO identificados do comprador:\n",
    "\n",
    "df_naoidentificado = df['CustomerID'].isnull().sum()\n",
    "\n",
    "print(\"Dados com compradores identificados: \", df_identificado)\n",
    "\n",
    "print(\"Dados com compradores NÂO identificados: \", df_naoidentificado)"
   ]
  },
  {
   "cell_type": "code",
   "execution_count": 9,
   "metadata": {},
   "outputs": [
    {
     "name": "stdout",
     "output_type": "stream",
     "text": [
      "Registros válidos:  (401604, 8)\n",
      "3212832\n"
     ]
    },
    {
     "data": {
      "text/html": [
       "<div>\n",
       "<style scoped>\n",
       "    .dataframe tbody tr th:only-of-type {\n",
       "        vertical-align: middle;\n",
       "    }\n",
       "\n",
       "    .dataframe tbody tr th {\n",
       "        vertical-align: top;\n",
       "    }\n",
       "\n",
       "    .dataframe thead th {\n",
       "        text-align: right;\n",
       "    }\n",
       "</style>\n",
       "<table border=\"1\" class=\"dataframe\">\n",
       "  <thead>\n",
       "    <tr style=\"text-align: right;\">\n",
       "      <th></th>\n",
       "      <th>InvoiceNo</th>\n",
       "      <th>StockCode</th>\n",
       "      <th>Description</th>\n",
       "      <th>Quantity</th>\n",
       "      <th>InvoiceDate</th>\n",
       "      <th>UnitPrice</th>\n",
       "      <th>CustomerID</th>\n",
       "      <th>Country</th>\n",
       "    </tr>\n",
       "  </thead>\n",
       "  <tbody>\n",
       "    <tr>\n",
       "      <th>0</th>\n",
       "      <td>536365</td>\n",
       "      <td>85123A</td>\n",
       "      <td>WHITE HANGING HEART T-LIGHT HOLDER</td>\n",
       "      <td>6</td>\n",
       "      <td>2010-12-01 08:26:00</td>\n",
       "      <td>2.55</td>\n",
       "      <td>17850.0</td>\n",
       "      <td>United Kingdom</td>\n",
       "    </tr>\n",
       "    <tr>\n",
       "      <th>1</th>\n",
       "      <td>536365</td>\n",
       "      <td>71053</td>\n",
       "      <td>WHITE METAL LANTERN</td>\n",
       "      <td>6</td>\n",
       "      <td>2010-12-01 08:26:00</td>\n",
       "      <td>3.39</td>\n",
       "      <td>17850.0</td>\n",
       "      <td>United Kingdom</td>\n",
       "    </tr>\n",
       "    <tr>\n",
       "      <th>2</th>\n",
       "      <td>536365</td>\n",
       "      <td>84406B</td>\n",
       "      <td>CREAM CUPID HEARTS COAT HANGER</td>\n",
       "      <td>8</td>\n",
       "      <td>2010-12-01 08:26:00</td>\n",
       "      <td>2.75</td>\n",
       "      <td>17850.0</td>\n",
       "      <td>United Kingdom</td>\n",
       "    </tr>\n",
       "    <tr>\n",
       "      <th>3</th>\n",
       "      <td>536365</td>\n",
       "      <td>84029G</td>\n",
       "      <td>KNITTED UNION FLAG HOT WATER BOTTLE</td>\n",
       "      <td>6</td>\n",
       "      <td>2010-12-01 08:26:00</td>\n",
       "      <td>3.39</td>\n",
       "      <td>17850.0</td>\n",
       "      <td>United Kingdom</td>\n",
       "    </tr>\n",
       "    <tr>\n",
       "      <th>4</th>\n",
       "      <td>536365</td>\n",
       "      <td>84029E</td>\n",
       "      <td>RED WOOLLY HOTTIE WHITE HEART.</td>\n",
       "      <td>6</td>\n",
       "      <td>2010-12-01 08:26:00</td>\n",
       "      <td>3.39</td>\n",
       "      <td>17850.0</td>\n",
       "      <td>United Kingdom</td>\n",
       "    </tr>\n",
       "    <tr>\n",
       "      <th>...</th>\n",
       "      <td>...</td>\n",
       "      <td>...</td>\n",
       "      <td>...</td>\n",
       "      <td>...</td>\n",
       "      <td>...</td>\n",
       "      <td>...</td>\n",
       "      <td>...</td>\n",
       "      <td>...</td>\n",
       "    </tr>\n",
       "    <tr>\n",
       "      <th>541904</th>\n",
       "      <td>581587</td>\n",
       "      <td>22613</td>\n",
       "      <td>PACK OF 20 SPACEBOY NAPKINS</td>\n",
       "      <td>12</td>\n",
       "      <td>2011-12-09 12:50:00</td>\n",
       "      <td>0.85</td>\n",
       "      <td>12680.0</td>\n",
       "      <td>France</td>\n",
       "    </tr>\n",
       "    <tr>\n",
       "      <th>541905</th>\n",
       "      <td>581587</td>\n",
       "      <td>22899</td>\n",
       "      <td>CHILDREN'S APRON DOLLY GIRL</td>\n",
       "      <td>6</td>\n",
       "      <td>2011-12-09 12:50:00</td>\n",
       "      <td>2.10</td>\n",
       "      <td>12680.0</td>\n",
       "      <td>France</td>\n",
       "    </tr>\n",
       "    <tr>\n",
       "      <th>541906</th>\n",
       "      <td>581587</td>\n",
       "      <td>23254</td>\n",
       "      <td>CHILDRENS CUTLERY DOLLY GIRL</td>\n",
       "      <td>4</td>\n",
       "      <td>2011-12-09 12:50:00</td>\n",
       "      <td>4.15</td>\n",
       "      <td>12680.0</td>\n",
       "      <td>France</td>\n",
       "    </tr>\n",
       "    <tr>\n",
       "      <th>541907</th>\n",
       "      <td>581587</td>\n",
       "      <td>23255</td>\n",
       "      <td>CHILDRENS CUTLERY CIRCUS PARADE</td>\n",
       "      <td>4</td>\n",
       "      <td>2011-12-09 12:50:00</td>\n",
       "      <td>4.15</td>\n",
       "      <td>12680.0</td>\n",
       "      <td>France</td>\n",
       "    </tr>\n",
       "    <tr>\n",
       "      <th>541908</th>\n",
       "      <td>581587</td>\n",
       "      <td>22138</td>\n",
       "      <td>BAKING SET 9 PIECE RETROSPOT</td>\n",
       "      <td>3</td>\n",
       "      <td>2011-12-09 12:50:00</td>\n",
       "      <td>4.95</td>\n",
       "      <td>12680.0</td>\n",
       "      <td>France</td>\n",
       "    </tr>\n",
       "  </tbody>\n",
       "</table>\n",
       "<p>401604 rows × 8 columns</p>\n",
       "</div>"
      ],
      "text/plain": [
       "       InvoiceNo StockCode                          Description  Quantity  \\\n",
       "0         536365    85123A   WHITE HANGING HEART T-LIGHT HOLDER         6   \n",
       "1         536365     71053                  WHITE METAL LANTERN         6   \n",
       "2         536365    84406B       CREAM CUPID HEARTS COAT HANGER         8   \n",
       "3         536365    84029G  KNITTED UNION FLAG HOT WATER BOTTLE         6   \n",
       "4         536365    84029E       RED WOOLLY HOTTIE WHITE HEART.         6   \n",
       "...          ...       ...                                  ...       ...   \n",
       "541904    581587     22613          PACK OF 20 SPACEBOY NAPKINS        12   \n",
       "541905    581587     22899         CHILDREN'S APRON DOLLY GIRL          6   \n",
       "541906    581587     23254        CHILDRENS CUTLERY DOLLY GIRL          4   \n",
       "541907    581587     23255      CHILDRENS CUTLERY CIRCUS PARADE         4   \n",
       "541908    581587     22138        BAKING SET 9 PIECE RETROSPOT          3   \n",
       "\n",
       "               InvoiceDate  UnitPrice  CustomerID         Country  \n",
       "0      2010-12-01 08:26:00       2.55     17850.0  United Kingdom  \n",
       "1      2010-12-01 08:26:00       3.39     17850.0  United Kingdom  \n",
       "2      2010-12-01 08:26:00       2.75     17850.0  United Kingdom  \n",
       "3      2010-12-01 08:26:00       3.39     17850.0  United Kingdom  \n",
       "4      2010-12-01 08:26:00       3.39     17850.0  United Kingdom  \n",
       "...                    ...        ...         ...             ...  \n",
       "541904 2011-12-09 12:50:00       0.85     12680.0          France  \n",
       "541905 2011-12-09 12:50:00       2.10     12680.0          France  \n",
       "541906 2011-12-09 12:50:00       4.15     12680.0          France  \n",
       "541907 2011-12-09 12:50:00       4.15     12680.0          France  \n",
       "541908 2011-12-09 12:50:00       4.95     12680.0          France  \n",
       "\n",
       "[401604 rows x 8 columns]"
      ]
     },
     "execution_count": 9,
     "metadata": {},
     "output_type": "execute_result"
    }
   ],
   "source": [
    "# Retirando a duplicidade dos dados; \n",
    "# Assume um dado dupicado sendo que ele é igual em Todas as dimensões,\n",
    "#ou seja, os elementos são iguais totalmente;\n",
    "\n",
    "\n",
    "# Precisa que seja uma tabela para retirar os valores duplicados,\n",
    "# para isso vamos moldar nossa tabela;\n",
    "\n",
    "df_identificado = df[pd.notnull(df['CustomerID'])]\n",
    "\n",
    "df_sem_duplicacoes = df_identificado.drop_duplicates()\n",
    "\n",
    "print (\"Registros válidos: \", df_sem_duplicacoes.shape)\n",
    "\n",
    "#Total de valores identificados na tabela sem duplicação \n",
    "print(np.product(df_sem_duplicacoes.shape))\n",
    "\n",
    "df_sem_duplicacoes\n",
    "\n"
   ]
  },
  {
   "cell_type": "code",
   "execution_count": 10,
   "metadata": {},
   "outputs": [
    {
     "data": {
      "text/plain": [
       "<matplotlib.axes._subplots.AxesSubplot at 0x113599aa220>"
      ]
     },
     "execution_count": 10,
     "metadata": {},
     "output_type": "execute_result"
    },
    {
     "data": {
      "image/png": "[encoded data removed]",
      "text/plain": [
       "<Figure size 432x288 with 1 Axes>"
      ]
     },
     "metadata": {
      "needs_background": "light"
     },
     "output_type": "display_data"
    }
   ],
   "source": [
    "# Visualizando os dados dos 10 países que mais compraram\n",
    "\n",
    "df_sem_duplicacoes.Country.value_counts()[:10].plot(kind='bar')"
   ]
  },
  {
   "cell_type": "code",
   "execution_count": 11,
   "metadata": {},
   "outputs": [
    {
     "data": {
      "text/plain": [
       "<matplotlib.axes._subplots.AxesSubplot at 0x11361c25ca0>"
      ]
     },
     "execution_count": 11,
     "metadata": {},
     "output_type": "execute_result"
    },
    {
     "data": {
      "image/png": "[encoded data removed]",
      "text/plain": [
       "<Figure size 432x288 with 1 Axes>"
      ]
     },
     "metadata": {
      "needs_background": "light"
     },
     "output_type": "display_data"
    }
   ],
   "source": [
    "# Quantidade mais comprada;\n",
    "\n",
    "df_sem_duplicacoes.Quantity.value_counts()[:10].plot(kind = 'bar')"
   ]
  },
  {
   "cell_type": "code",
   "execution_count": 12,
   "metadata": {},
   "outputs": [
    {
     "data": {
      "text/plain": [
       "United Kingdom     356728\n",
       "Germany              9480\n",
       "France               8475\n",
       "EIRE                 7475\n",
       "Spain                2528\n",
       "Netherlands          2371\n",
       "Belgium              2069\n",
       "Switzerland          1877\n",
       "Portugal             1471\n",
       "Australia            1258\n",
       "Norway               1086\n",
       "Italy                 803\n",
       "Channel Islands       757\n",
       "Finland               695\n",
       "Cyprus                611\n",
       "Name: Country, dtype: int64"
      ]
     },
     "execution_count": 12,
     "metadata": {},
     "output_type": "execute_result"
    }
   ],
   "source": [
    "# Tabela com os 15 países que mais consumiram\n",
    "\n",
    "df_sem_duplicacoes.Country.value_counts()[:15]"
   ]
  },
  {
   "cell_type": "code",
   "execution_count": 13,
   "metadata": {},
   "outputs": [
    {
     "name": "stderr",
     "output_type": "stream",
     "text": [
      "<ipython-input-13-3b1b6c02acf5>:4: SettingWithCopyWarning: \n",
      "A value is trying to be set on a copy of a slice from a DataFrame.\n",
      "Try using .loc[row_indexer,col_indexer] = value instead\n",
      "\n",
      "See the caveats in the documentation: https://pandas.pydata.org/pandas-docs/stable/user_guide/indexing.html#returning-a-view-versus-a-copy\n",
      "  df_sem_duplicacoes['Total'] = df_sem_duplicacoes.UnitPrice * df_sem_duplicacoes.Quantity\n"
     ]
    },
    {
     "data": {
      "text/html": [
       "<div>\n",
       "<style scoped>\n",
       "    .dataframe tbody tr th:only-of-type {\n",
       "        vertical-align: middle;\n",
       "    }\n",
       "\n",
       "    .dataframe tbody tr th {\n",
       "        vertical-align: top;\n",
       "    }\n",
       "\n",
       "    .dataframe thead th {\n",
       "        text-align: right;\n",
       "    }\n",
       "</style>\n",
       "<table border=\"1\" class=\"dataframe\">\n",
       "  <thead>\n",
       "    <tr style=\"text-align: right;\">\n",
       "      <th></th>\n",
       "      <th>Quantity</th>\n",
       "      <th>Total</th>\n",
       "    </tr>\n",
       "    <tr>\n",
       "      <th>Country</th>\n",
       "      <th></th>\n",
       "      <th></th>\n",
       "    </tr>\n",
       "  </thead>\n",
       "  <tbody>\n",
       "    <tr>\n",
       "      <th>United Kingdom</th>\n",
       "      <td>3994870</td>\n",
       "      <td>6.747156e+06</td>\n",
       "    </tr>\n",
       "    <tr>\n",
       "      <th>Netherlands</th>\n",
       "      <td>200128</td>\n",
       "      <td>2.846615e+05</td>\n",
       "    </tr>\n",
       "    <tr>\n",
       "      <th>EIRE</th>\n",
       "      <td>136187</td>\n",
       "      <td>2.500018e+05</td>\n",
       "    </tr>\n",
       "    <tr>\n",
       "      <th>Germany</th>\n",
       "      <td>117341</td>\n",
       "      <td>2.215095e+05</td>\n",
       "    </tr>\n",
       "    <tr>\n",
       "      <th>France</th>\n",
       "      <td>109806</td>\n",
       "      <td>1.966260e+05</td>\n",
       "    </tr>\n",
       "    <tr>\n",
       "      <th>Australia</th>\n",
       "      <td>83643</td>\n",
       "      <td>1.370098e+05</td>\n",
       "    </tr>\n",
       "    <tr>\n",
       "      <th>Switzerland</th>\n",
       "      <td>29778</td>\n",
       "      <td>5.573940e+04</td>\n",
       "    </tr>\n",
       "    <tr>\n",
       "      <th>Spain</th>\n",
       "      <td>26817</td>\n",
       "      <td>5.475603e+04</td>\n",
       "    </tr>\n",
       "    <tr>\n",
       "      <th>Belgium</th>\n",
       "      <td>23152</td>\n",
       "      <td>4.091096e+04</td>\n",
       "    </tr>\n",
       "    <tr>\n",
       "      <th>Sweden</th>\n",
       "      <td>35632</td>\n",
       "      <td>3.658541e+04</td>\n",
       "    </tr>\n",
       "  </tbody>\n",
       "</table>\n",
       "</div>"
      ],
      "text/plain": [
       "                Quantity         Total\n",
       "Country                               \n",
       "United Kingdom   3994870  6.747156e+06\n",
       "Netherlands       200128  2.846615e+05\n",
       "EIRE              136187  2.500018e+05\n",
       "Germany           117341  2.215095e+05\n",
       "France            109806  1.966260e+05\n",
       "Australia          83643  1.370098e+05\n",
       "Switzerland        29778  5.573940e+04\n",
       "Spain              26817  5.475603e+04\n",
       "Belgium            23152  4.091096e+04\n",
       "Sweden             35632  3.658541e+04"
      ]
     },
     "execution_count": 13,
     "metadata": {},
     "output_type": "execute_result"
    }
   ],
   "source": [
    "# Obtendo a lista dos 10 países que mais consomem (por volume total\n",
    "#de vendas)\n",
    "\n",
    "df_sem_duplicacoes['Total'] = df_sem_duplicacoes.UnitPrice * df_sem_duplicacoes.Quantity\n",
    "df_sem_duplicacoes_CQT = df_sem_duplicacoes[['Country', 'Quantity' , 'Total']]\n",
    "volume_de_venda = df_sem_duplicacoes_CQT.groupby('Country').sum().sort_values('Total', ascending = False).head(10)\n",
    "\n",
    "\n",
    "#df_sem_duplicacoes_CQT\n",
    "volume_de_venda\n"
   ]
  },
  {
   "cell_type": "markdown",
   "metadata": {},
   "source": [
    "# Análise dos registros com comportamentos anômalos\n",
    "\n",
    "Considerando os dados que possuem valores de quantidades < 0 (zero). Analisar se o comprador fez a compra e depois resolveu devolver. Ou se foi enviado por brinde;"
   ]
  },
  {
   "cell_type": "code",
   "execution_count": null,
   "metadata": {},
   "outputs": [],
   "source": [
    "# SEleciona da tabela df_sem_duplicacoes os valores que possuem na \n",
    "#coluna Quantity < 0;\n",
    "\n",
    "df_dados_anomalos = df_sem_duplicacoes[df_sem_duplicacoes.Quantity < 0 ]\n",
    "df_dados_anomalos.head().sort_values('Total', ascending = False)"
   ]
  },
  {
   "cell_type": "code",
   "execution_count": null,
   "metadata": {},
   "outputs": [],
   "source": [
    "# Ordenando os dados por consumidores e totais;\n",
    "\n",
    "print('Os 10 consumidores que mais impactaram negativamente na empresa: ')\n",
    "df_dados_anomalos = df_dados_anomalos[['CustomerID', 'Total']]\n",
    "\n",
    "#Imprimindo os 10 maiores, agrupando por CustomerID e classificando por Total maior para menor;\n",
    "print(df_dados_anomalos.groupby('CustomerID').sum().sort_values('Total', ascending = False).head(10))\n",
    "\n",
    "print ('Número total de consumidores: {}'.format(df_dados_anomalos.CustomerID.count()))\n",
    "       \n",
    "print ('O Valor total consumido: {}'.format(df_dados_anomalos.Total.sum()))"
   ]
  },
  {
   "cell_type": "code",
   "execution_count": null,
   "metadata": {},
   "outputs": [],
   "source": [
    "# Analisando o comportamento do consumidor de id 16446\n",
    "\n",
    "df_CustomerID = df_sem_duplicacoes[df_sem_duplicacoes.CustomerID == 16446.0]\n",
    "df_CustomerID\n",
    "\n",
    "# Notamos que um produto foi comprado e devolvido;"
   ]
  },
  {
   "cell_type": "code",
   "execution_count": null,
   "metadata": {},
   "outputs": [],
   "source": [
    "# Eliminando as vendas que não se concretizaram\n",
    "\n",
    "# Filtra pelas colunas indicadas e cria a tabela no qual se os valores\n",
    "#forem duplicados nas colunas indicadas retorna False;\n",
    "\n",
    "mascara = df_sem_duplicacoes [['StockCode', 'Description', 'UnitPrice',\n",
    "                               'CustomerID']].duplicated(keep=False)\n",
    "\n",
    "# Atribuo esta tabela os valores da tabela sem_duplicacao retirando\n",
    "# os valores Falsos, filtrados anteriormente;\n",
    "df_sem_duplicacoes_final = df_sem_duplicacoes[~mascara]\n",
    "\n",
    "# Retiramos os dados de compras não concretizados e exibimos\n",
    "# o resultado novamente para o cliente de código 16446\n",
    "\n",
    "df_CustomerID = df_sem_duplicacoes_final[df_sem_duplicacoes_final.CustomerID == 16446.0]\n",
    "df_CustomerID\n",
    "\n"
   ]
  },
  {
   "cell_type": "code",
   "execution_count": null,
   "metadata": {},
   "outputs": [],
   "source": [
    "# Vamos analisar o consumidor 17548.0, com base no dataset que\n",
    "# contém transações com consumidores identificados;\n",
    "\n",
    "df_identificado[df_identificado.CustomerID == 17548.0]"
   ]
  },
  {
   "cell_type": "markdown",
   "metadata": {},
   "source": [
    "# RFM (Recency, Frequency, Monetary)\n",
    "\n",
    "Recency = calcula o número de dias entre o dia base (última compra +1) e a última compra por cada consumidor;\n",
    "\n",
    "Frequency = cálcula o número de compras realizadas por cada consumidor;\n",
    "\n",
    "Monetary = calcula o valor total pago por cada consumidor;"
   ]
  },
  {
   "cell_type": "code",
   "execution_count": null,
   "metadata": {},
   "outputs": [],
   "source": [
    "# Agora, utilizaremos apenas os dados de compras efetivadas e com\n",
    "# compradores identificados;\n",
    "\n",
    "df_rfm = df_sem_duplicacoes_final[df_sem_duplicacoes_final.Quantity > 0]\n",
    "\n",
    "df_rfm.describe()"
   ]
  },
  {
   "cell_type": "code",
   "execution_count": null,
   "metadata": {},
   "outputs": [],
   "source": [
    "# Realizando operações de conversão e obtenção dos valores\n",
    "# extremos da dimensão data\n",
    "\n",
    "# convertendo o valor da tabela para datetime\n",
    "df_rfm['InvoiceDate'] = pd.to_datetime(df_rfm['InvoiceDate'])\n",
    "\n",
    "# Atribui os valores para maior e menor data;\n",
    "menor_data, maior_data = df_rfm['InvoiceDate'].min(), df_rfm['InvoiceDate'].max()\n",
    "\n",
    "\n",
    "# Agora, adicionamos um dia à maior compra para iniciarmos a análise\n",
    "maior_data = maior_data + pd.DateOffset(days=1)\n",
    "\n"
   ]
  },
  {
   "cell_type": "code",
   "execution_count": null,
   "metadata": {},
   "outputs": [],
   "source": [
    "# Por curiosidade, quais os produtos foram mais comprados durante\n",
    "# os primeiros dias?\n",
    "\n",
    "((df_rfm.groupby(['InvoiceDate']).first()).\n",
    " groupby('Description').count().sort_values('Quantity', ascending = False).head(10))['Quantity']"
   ]
  },
  {
   "cell_type": "code",
   "execution_count": null,
   "metadata": {},
   "outputs": [],
   "source": [
    "# Agora, quando tivemos as dez maiores vendas?\n",
    "\n",
    "df_rfm.groupby('InvoiceDate')[['Total']].sum().sort_values('Total', ascending = False).head(10)"
   ]
  },
  {
   "cell_type": "code",
   "execution_count": null,
   "metadata": {},
   "outputs": [],
   "source": [
    "# Vamos saber quais foram os produtos mais vendidos (quantidade de vezes)\n",
    "\n",
    "print ('Produtos mais vendidos (quantidade)')\n",
    "print (df_rfm.groupby('Description')[['Quantity', 'Total']].sum().sort_values('Quantity', ascending=False).head(10))\n",
    "print ('#######################################\\n')\n",
    "\n",
    "print ('Produtos mais vendidos (valor)')\n",
    "print (df_rfm.groupby('Description')[['Quantity', 'Total']].sum().sort_values('Total', ascending=False).head(10))\n",
    "\n",
    "print ('#######################################\\n')\n",
    "\n",
    "print ('Produtos menos vendidos (quantidade)')\n",
    "print (df_rfm.groupby('Description')[['Quantity', 'Total']].sum().sort_values('Quantity', ascending=True).head(10))\n",
    "\n",
    "print ('#######################################\\n')\n",
    "\n",
    "print ('Produtos menos vendidos (valor)')\n",
    "print (df_rfm.groupby('Description')[['Quantity', 'Total']].sum().sort_values('Total', ascending=True).head(10))\n",
    "\n"
   ]
  },
  {
   "cell_type": "code",
   "execution_count": null,
   "metadata": {},
   "outputs": [],
   "source": [
    "# Dividindo em quatro períodos para análise\n",
    "\n",
    "periodoA, periodoB, periodoC, periodoD = pd.date_range(menor_data, maior_data, periods=4)\n"
   ]
  },
  {
   "cell_type": "code",
   "execution_count": null,
   "metadata": {},
   "outputs": [],
   "source": [
    "tabela_rfm = df_rfm.groupby('CustomerID').agg({'InvoiceDate': lambda date: (maior_data - date.max()).days,\n",
    "                                        'InvoiceNo': lambda num: len(num),\n",
    "                                        'Total': lambda valor: valor.sum()})\n",
    "\n",
    "tabela_rfm.head(6).sort_values('Total', ascending=False)"
   ]
  },
  {
   "cell_type": "code",
   "execution_count": null,
   "metadata": {},
   "outputs": [],
   "source": [
    "# Renomeando as colunas de acordo com análise de RFM\n",
    "\n",
    "tabela_rfm.columns = ['recency', 'frequency', 'monetary']\n",
    "\n",
    "# Visualizando os consumidores que mais compraram na loja\n",
    "\n",
    "tabela_rfm.head().sort_values('frequency', ascending=False)"
   ]
  },
  {
   "cell_type": "code",
   "execution_count": null,
   "metadata": {},
   "outputs": [],
   "source": [
    "# classificando os dados de acordo com quartis\n",
    "\n",
    "# mais recente, mais importante\n",
    "tabela_rfm['recency_quartile'] = pd.qcut(tabela_rfm['recency'], 4, ['1', '2', '3', '4'])\n",
    "\n",
    "tabela_rfm['frequency_quartile'] = pd.qcut(tabela_rfm['frequency'], 4, ['4', '3', '2', '1'])\n",
    "\n",
    "tabela_rfm['monetary_quartile'] = pd.qcut(tabela_rfm['monetary'], 4, ['4', '3', '2', '1'])\n",
    "\n"
   ]
  },
  {
   "cell_type": "code",
   "execution_count": null,
   "metadata": {},
   "outputs": [],
   "source": [
    "# Visualizando o resultado\n",
    "\n",
    "tabela_rfm.head()"
   ]
  },
  {
   "cell_type": "code",
   "execution_count": null,
   "metadata": {},
   "outputs": [],
   "source": [
    "tabela_rfm['Score'] = tabela_rfm.recency_quartile.astype(str) + tabela_rfm.frequency_quartile.astype(str) + tabela_rfm.monetary_quartile.astype(str)\n",
    "\n",
    "tabela_rfm.head()"
   ]
  },
  {
   "cell_type": "code",
   "execution_count": null,
   "metadata": {},
   "outputs": [],
   "source": []
  }
 ],
 "metadata": {
  "kernelspec": {
   "display_name": "Python 3",
   "language": "python",
   "name": "python3"
  },
  "language_info": {
   "codemirror_mode": {
    "name": "ipython",
    "version": 3
   },
   "file_extension": ".py",
   "mimetype": "text/x-python",
   "name": "python",
   "nbconvert_exporter": "python",
   "pygments_lexer": "ipython3",
   "version": "3.8.3"
  }
 },
 "nbformat": 4,
 "nbformat_minor": 4
}
